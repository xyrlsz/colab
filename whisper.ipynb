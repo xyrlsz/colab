{
  "nbformat": 4,
  "nbformat_minor": 0,
  "metadata": {
    "colab": {
      "provenance": [],
      "gpuType": "T4",
      "mount_file_id": "1kPqYbvZeb8glcoPUpUfmW7Tnr70P3MLS",
      "authorship_tag": "ABX9TyOzqg3dXugV2HX66m6VlN6n",
      "include_colab_link": true
    },
    "kernelspec": {
      "name": "python3",
      "display_name": "Python 3"
    },
    "language_info": {
      "name": "python"
    },
    "accelerator": "GPU"
  },
  "cells": [
    {
      "cell_type": "markdown",
      "metadata": {
        "id": "view-in-github",
        "colab_type": "text"
      },
      "source": [
        "<a href=\"https://colab.research.google.com/github/xyrlsz/colab/blob/main/whisper.ipynb\" target=\"_parent\"><img src=\"https://colab.research.google.com/assets/colab-badge.svg\" alt=\"Open In Colab\"/></a>"
      ]
    },
    {
      "cell_type": "code",
      "execution_count": null,
      "metadata": {
        "id": "IiWy_Q5_V_J8"
      },
      "outputs": [],
      "source": [
        "%%shell\n",
        "sudo apt install ffmpeg -y"
      ]
    },
    {
      "cell_type": "code",
      "source": [
        "%%shell\n",
        "pip3 install torch torchvision torchaudio"
      ],
      "metadata": {
        "id": "pGDuVjEuWj5g"
      },
      "execution_count": null,
      "outputs": []
    },
    {
      "cell_type": "code",
      "source": [
        "%%shell\n",
        "pip install git+https://github.com/openai/whisper.git"
      ],
      "metadata": {
        "id": "oDdeF1ITXJRm"
      },
      "execution_count": null,
      "outputs": []
    },
    {
      "cell_type": "code",
      "source": [
        "%%shell\n",
        "pip install --upgrade --no-deps --force-reinstall git+https://github.com/openai/whisper.git"
      ],
      "metadata": {
        "id": "rdjTl5qsXYGz"
      },
      "execution_count": null,
      "outputs": []
    },
    {
      "cell_type": "code",
      "source": [
        "%%shell\n",
        "whisper 新建视频录制.mp3 --model large-v2"
      ],
      "metadata": {
        "id": "x7uryyhYcJc6"
      },
      "execution_count": null,
      "outputs": []
    }
  ]
}